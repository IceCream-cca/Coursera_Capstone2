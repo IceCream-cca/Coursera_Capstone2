{
 "cells": [
  {
   "cell_type": "markdown",
   "metadata": {},
   "source": [
    "# **Introduction/Business Problem**\n"
   ]
  },
  {
   "cell_type": "markdown",
   "metadata": {},
   "source": [
    "Both Toronto and New York are the most popular city and financial capital of their own country. Most of the foreigner,including me, might to live or travel or know the similarity and disimilarity of these two diverse city. Therefore, in this project, we will segment and compare this two cities based on:\n",
    "1. **Their Average Income**\n",
    "2. **Population Desity**\n",
    "3. **The most popular restaurant of the two cities in order to know whether they have the same preferable food or not**\n",
    "\n",
    "If we can figure out the above problem, it will be helpful not only especially for those who would like to migrate and work at one of these cities but also for the tourists who would like to explore the most popular resturant among the city. Moreover, it will also helpful for the person who is confusing whether he/she should open their new resturant in New York or Toronto because this project result can help them to understand what is the favorate/popular foods for the city dwellers."
   ]
  },
  {
   "cell_type": "markdown",
   "metadata": {},
   "source": [
    "# **Data Description**"
   ]
  },
  {
   "cell_type": "markdown",
   "metadata": {},
   "source": [
    "The required raw data for segmentation and Comparing are as follows:\n",
    "1. Neighborhoods of New York data  : https://geo.nyu.edu/catalog/nyu_2451_34572\n",
    "2. Neighborhood of Toronto data: https://en.wikipedia.org/wiki/List_of_postal_codes_of_Canada:_M \n",
    "3. Demographics data of Toronto:https://en.wikipedia.org/wiki/Demographics_of_Toronto_neighbourhoods\n",
    "4. Demographics data of New York: https://en.wikipedia.org/wiki/Demographics_of_New_York_City\n",
    "5. Geospatial Coordinates of Toronto:http://cocl.us/Geospatial_data"
   ]
  },
  {
   "cell_type": "markdown",
   "metadata": {},
   "source": [
    "## **Methodology**"
   ]
  },
  {
   "cell_type": "markdown",
   "metadata": {},
   "source": [
    "### 1. Segmentation of New York and Toronto Neighborhoods"
   ]
  },
  {
   "cell_type": "markdown",
   "metadata": {},
   "source": [
    "* ***Collection of borough and neighborhoods list of New York***\n",
    "\n",
    "1. we will import borough and neighborhoods list of New York. Fournately, we can easily access this data by refering to the Week3 Capstone Project Lab.After the data with (.json) file was downloaded we will filtered out the required data(such as Borough,Neighborhoods,Latitude,Longitude) and then converted it to pandas dataframe for further analysis.\n",
    "\n",
    "2. For importing the borough and neighborhoods list of Toronto, we will use Beautifulsoup Package for scraping the HTML data from webpage and then using pandas package for converting into pandas dataframe. As the imported list did not contain location data of neighborhoods,we will download another dataset that contained location data. After the data was cleansing, two tables were merged to get the final Toronto neighborhood dataset.\n",
    "\n",
    "3. After having the location data of each neighborhoods,we will use Foursquare API for extracting all the venues data and emerged it to the above datasets.\n",
    "\n",
    "* ***Algorithm for segmentation***\n",
    "1. We will use K-Means clustering algorithm to cluster all the neighborhoods for New York and then Toronto separately. After the dataset was clustered, we can use it for other visualization."
   ]
  },
  {
   "cell_type": "markdown",
   "metadata": {},
   "source": [
    "### 2.Explore the average income and population density"
   ]
  },
  {
   "cell_type": "markdown",
   "metadata": {},
   "source": [
    "* Import population density and average income data for all boroughs of New York and Toronto from Wikipedia by using BeautifulSoup package\n",
    "* Convert the imported data to the pandas data frame\n",
    "*  After some cleaning, the dataset will be ready for exploratory visualization."
   ]
  },
  {
   "cell_type": "markdown",
   "metadata": {},
   "source": [
    "### 3. Explore the popularity of the different restaurants in both cities"
   ]
  },
  {
   "cell_type": "markdown",
   "metadata": {},
   "source": [
    "* By using Foursquare API, we can get the restaurants datasets.\n",
    "* Based on the dataset, we can use visualization techniques to explain the data and figure out the popularity rate of the resturants and which food is the most polular in each Toronto and NY.\n",
    "* Finally, we will use clustering algorithms to generate the clusters for these two cities based on the common restaurants and visualize it by using Folium Map."
   ]
  },
  {
   "cell_type": "code",
   "execution_count": null,
   "metadata": {},
   "outputs": [],
   "source": []
  }
 ],
 "metadata": {
  "kernelspec": {
   "display_name": "Python",
   "language": "python",
   "name": "conda-env-python-py"
  },
  "language_info": {
   "codemirror_mode": {
    "name": "ipython",
    "version": 3
   },
   "file_extension": ".py",
   "mimetype": "text/x-python",
   "name": "python",
   "nbconvert_exporter": "python",
   "pygments_lexer": "ipython3",
   "version": "3.6.7"
  }
 },
 "nbformat": 4,
 "nbformat_minor": 4
}
